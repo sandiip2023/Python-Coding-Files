{
  "nbformat": 4,
  "nbformat_minor": 0,
  "metadata": {
    "colab": {
      "provenance": []
    },
    "kernelspec": {
      "name": "python3",
      "display_name": "Python 3"
    },
    "language_info": {
      "name": "python"
    }
  },
  "cells": [
    {
      "cell_type": "code",
      "execution_count": null,
      "metadata": {
        "colab": {
          "base_uri": "https://localhost:8080/"
        },
        "id": "Cg4S_FcGNtWz",
        "outputId": "a8efae42-6f73-4683-90c8-857f47f0b8d1"
      },
      "outputs": [
        {
          "output_type": "stream",
          "name": "stdout",
          "text": [
            "Enter your No.9\n",
            "Enter your No.2\n",
            "* or /*\n",
            "9.0*2.0=18.0\n"
          ]
        }
      ],
      "source": [
        "##(1) Write a program to accept two numbers from the user and calculate Multiplication, Division\n",
        "\n",
        "num1=float(input(\"Enter your No.\"))\n",
        "num2=float(input(\"Enter your No.\"))\n",
        "symbol=input('* or /')\n",
        "\n",
        "if symbol==\"*\":\n",
        "  print(\"{}*{}={}\".format(num1,num2,num1*num2))\n",
        "else:\n",
        "  print(\"{}/{}={}\".format(num1,num2,num1/num2))"
      ]
    },
    {
      "cell_type": "code",
      "source": [
        "##(2) Write a python program to print the characters from a string that are present at an even index.\n",
        "\n",
        "str1=input(\"Enter a Name : \")\n",
        "\n",
        "for i in range(len(str1)):\n",
        "  if i%2==0:\n",
        "    print(str1[i],end=\"\")"
      ],
      "metadata": {
        "id": "-0ZEBIgMPoju",
        "colab": {
          "base_uri": "https://localhost:8080/"
        },
        "outputId": "92f3a964-c4e5-4917-8185-b37ce46dfc98"
      },
      "execution_count": null,
      "outputs": [
        {
          "output_type": "stream",
          "name": "stdout",
          "text": [
            "Enter a Name : Python\n",
            "Pto"
          ]
        }
      ]
    },
    {
      "cell_type": "code",
      "source": [
        "##(3)  Write a python program to print the characters from a string that are present at an odd index.\n",
        "\n",
        "str1=input(\"Enter a Name : \")\n",
        "\n",
        "for i in range(len(str1)):\n",
        "  if i%2!=0:\n",
        "    print(str1[i],end=\"\")"
      ],
      "metadata": {
        "colab": {
          "base_uri": "https://localhost:8080/"
        },
        "id": "gH8DJhgegiz4",
        "outputId": "d6258637-0872-4595-fe9c-5be1a58cdf5d"
      },
      "execution_count": null,
      "outputs": [
        {
          "output_type": "stream",
          "name": "stdout",
          "text": [
            "Enter a Name : Python\n",
            "yhn"
          ]
        }
      ]
    },
    {
      "cell_type": "code",
      "source": [
        "##(4) Write a python program which will print the sum of the two numbers if the two numbers are even or it will print the difference of two numbers.\n",
        "\n",
        "num1=int(input(\"Enter a First Number : \"))\n",
        "num2=int(input(\"Enter a Second Number : \"))\n",
        "\n",
        "if num1%2==0 and num2 %2==0:\n",
        "  print(num1+num2)\n",
        "else:\n",
        "  print(num1-num2)"
      ],
      "metadata": {
        "colab": {
          "base_uri": "https://localhost:8080/"
        },
        "id": "MqVFfl5XidtR",
        "outputId": "4f321066-1cd7-40a9-c2a7-b91efe95e2a1"
      },
      "execution_count": null,
      "outputs": [
        {
          "output_type": "stream",
          "name": "stdout",
          "text": [
            "Enter a First Number : 56\n",
            "Enter a Second Number : 42\n",
            "98\n"
          ]
        }
      ]
    },
    {
      "cell_type": "code",
      "source": [
        "##(5) Write a python program to convert all even indexed alphabets to upper and odd indexed char.\n",
        "\n",
        "i=input(\"Enter a Name : \")\n",
        "j=\"\"\n",
        "for x in range(0,len(i)):\n",
        "  if x%2==0:\n",
        "    j=j+i[x].upper()\n",
        "  else:\n",
        "    j=j+i[x].lower()\n",
        "print(j)"
      ],
      "metadata": {
        "colab": {
          "base_uri": "https://localhost:8080/"
        },
        "id": "TkftTzkkvmAC",
        "outputId": "24282ef4-c68d-436d-e360-c65942072cb0"
      },
      "execution_count": null,
      "outputs": [
        {
          "output_type": "stream",
          "name": "stdout",
          "text": [
            "Enter a Name : Data Science\n",
            "DaTa sCiEnCe\n"
          ]
        }
      ]
    },
    {
      "cell_type": "code",
      "source": [
        "##(6) Write a python program which will print True if the input number is divisible by 5 or else False\n",
        "\n",
        "num=int(input(\"Enter a number : \"))\n",
        "if num %5==0:\n",
        "  print(True)\n",
        "else:\n",
        "  print(False)"
      ],
      "metadata": {
        "id": "Af5Rfno8s8Rw",
        "colab": {
          "base_uri": "https://localhost:8080/"
        },
        "outputId": "eb769674-818b-45ca-e654-a374afed31ab"
      },
      "execution_count": null,
      "outputs": [
        {
          "output_type": "stream",
          "name": "stdout",
          "text": [
            "Enter a number : 100\n",
            "True\n"
          ]
        }
      ]
    },
    {
      "cell_type": "code",
      "source": [
        "##(7) Given two integer numbers return their product only if the product is greater than 1000, else return their sum\n",
        "\n",
        "int_1=int(input(\"Enter The Number : \"))\n",
        "int_2=int(input(\"Enter The Number : \"))\n",
        "\n",
        "if int_1*int_2>1000:\n",
        "  print(\"{}*{}={}\".format(int_1,int_2,int_1*int_2))\n",
        "else:\n",
        "  print(\"{}+{}={}\".format(int_1,int_2,int_1+int_2))"
      ],
      "metadata": {
        "id": "JVotZ0SktH3r",
        "colab": {
          "base_uri": "https://localhost:8080/"
        },
        "outputId": "3775f32e-7a08-45e9-a295-a7279fa56305"
      },
      "execution_count": null,
      "outputs": [
        {
          "output_type": "stream",
          "name": "stdout",
          "text": [
            "Enter The Number : 30\n",
            "Enter The Number : 5\n",
            "30+5=35\n"
          ]
        }
      ]
    },
    {
      "cell_type": "code",
      "source": [
        "##(8)Given two strings x, y writes a program to return a new string made of x and y’s first, middle, and last characters.\n",
        "##Example :\n",
        "##Input\n",
        "##  i= \"pytho\"\n",
        "##  j= \"javas\"\n",
        "##Output\n",
        "##  \"pjtvos\"\n",
        "\n",
        "\n",
        "name_1=input(\"Enter a Name : \")\n",
        "name_2=input(\"Enter a Name : \")\n",
        "\n",
        "i=len(name_1)//2\n",
        "j=len(name_2)//2\n",
        "\n",
        "print(name_1[0]+name_2[0]+name_1[i]+name_2[j]+name_1[-1]+name_2[-1])"
      ],
      "metadata": {
        "colab": {
          "base_uri": "https://localhost:8080/"
        },
        "id": "p-WVNmTF72o6",
        "outputId": "cf8ce3cc-64d8-4e26-8af1-25279245809d"
      },
      "execution_count": null,
      "outputs": [
        {
          "output_type": "stream",
          "name": "stdout",
          "text": [
            "Enter a Name : pytho\n",
            "Enter a Name : javas\n",
            "pjtvos\n"
          ]
        }
      ]
    },
    {
      "cell_type": "code",
      "source": [
        "##(9)Write a python program to take three names as input from a user in the single input () function call\n",
        "\n",
        "##Example :\n",
        "\n",
        "##Input :\n",
        "\n",
        "##Enter three names : - \"Innomatics Research Labs\"\n",
        "\n",
        "##Output :\n",
        "\n",
        "##Name1 : - \"Innomatics\"\n",
        "##Name2 : - \"Research\"\n",
        "##Name3 : - \"Labs\"\n",
        "\n",
        "str_1,str_2,str_3=input(\"Enter The Three Names\").split()\n",
        "print(\"Name1 : \",str_1)\n",
        "print(\"Name2 : \",str_2)\n",
        "print(\"Name3 : \",str_3)"
      ],
      "metadata": {
        "colab": {
          "base_uri": "https://localhost:8080/"
        },
        "id": "h1t1GT38-NK_",
        "outputId": "e93b2837-d041-4c8d-b57a-268a9b249a6b"
      },
      "execution_count": null,
      "outputs": [
        {
          "output_type": "stream",
          "name": "stdout",
          "text": [
            "Enter The Three NamesInnomatics Research Labs\n",
            "Name1 :  Innomatics\n",
            "Name2 :  Research\n",
            "Name3 :  Labs\n"
          ]
        }
      ]
    },
    {
      "cell_type": "code",
      "source": [
        "##(10) Write a Python program to get a string from a given string where all occurrences of its first char have been changed to '@', except the first char itself.\n",
        "\n",
        "##Example:-\n",
        "##First Input : 'malayalam’ --- Output : 'malayala@'\n",
        "\n",
        "def name_change(str_1):\n",
        "  change=str_1[0]\n",
        "  str_1=str_1.replace(change,\"@\")\n",
        "  str_1=change+str_1[1:]\n",
        "\n",
        "  return str_1\n",
        "print(name_change(\"malayalam\"))\n",
        "\n",
        "##Second Input : ' abcabab' --- Output : \"abc@b@b\"\n",
        "\n",
        "def name_change(str_1):\n",
        "  change=str_1[0]\n",
        "  str_1=str_1.replace(change,\"@\")\n",
        "  str_1=change+str_1[4:6]\n",
        "\n",
        "  return str_1\n",
        "print(name_change(\"abcabab\"))"
      ],
      "metadata": {
        "colab": {
          "base_uri": "https://localhost:8080/"
        },
        "id": "OSSFIJ-1BUbb",
        "outputId": "c1e56375-9ea5-40d0-8751-f6e210ae7079"
      },
      "execution_count": null,
      "outputs": [
        {
          "output_type": "stream",
          "name": "stdout",
          "text": [
            "malayala@\n",
            "ab@\n"
          ]
        }
      ]
    },
    {
      "cell_type": "code",
      "source": [
        "##(11) Write a Python program to add 'ing' at the end of a given string (string length should be equal to or more than 3).\n",
        "#      If the given string already ends with 'ing' then add 'ly' instead.\n",
        "#      If the string length of the given string is less than 3, leave it unchanged\n",
        "\n",
        "##Example:-\n",
        "#Input :\"sing\" ----- Output : \"singing\"\n",
        "\n",
        "#Input : \"playing\" ----- Output : \"playly\"\n",
        "\n",
        "#Input : \"on\" ------ Output : \"on\"\n",
        "\n",
        "x=input(\"Enter Any Word : \")\n",
        "while len(x)>=3:\n",
        "  if(x[-3:]!=\"ing\"):\n",
        "    print(x+\"ing\")\n",
        "    break\n",
        "  elif(x[-3:]==\"ing\"):\n",
        "    print(x[0:-3]+\"ly\")\n",
        "    break\n",
        "  else:\n",
        "    print(x)"
      ],
      "metadata": {
        "id": "Qykyfmh5FfFG",
        "colab": {
          "base_uri": "https://localhost:8080/"
        },
        "outputId": "99ced017-b68a-49e9-ec1e-5c7c64dcbe56"
      },
      "execution_count": null,
      "outputs": [
        {
          "output_type": "stream",
          "name": "stdout",
          "text": [
            "Enter Any Word : Playing\n",
            "Playly\n"
          ]
        }
      ]
    },
    {
      "cell_type": "code",
      "source": [
        "##(12) Write a python program that accepts two inputs num1 and num2 print True if one of them is 10 or if their sum is 10 otherwise print False\n",
        "\n",
        "num1=int(input(\"Enter The First Number : \"))\n",
        "num2=int(input(\"Enter The Second Number : \"))\n",
        "num3=(num1+num2)\n",
        "\n",
        "if(num1==10 or num2==10) or (num3==10):\n",
        "  print(\"True\")\n",
        "else:\n",
        "  print(\"False\")"
      ],
      "metadata": {
        "colab": {
          "base_uri": "https://localhost:8080/"
        },
        "id": "2AA-WkMbT4r4",
        "outputId": "b90123f2-d378-402d-ad11-ca0bdd779534"
      },
      "execution_count": null,
      "outputs": [
        {
          "output_type": "stream",
          "name": "stdout",
          "text": [
            "Enter The First Number : 3\n",
            "Enter The First Number : 7\n",
            "True\n"
          ]
        }
      ]
    },
    {
      "cell_type": "code",
      "source": [
        "##(13) Write a python program that accepts three inputs x, y and z print True if x*y>z otherwise False\n",
        "\n",
        "no1=int(input(\"Enter The First Number : \"))\n",
        "no2=int(input(\"Enter The Second Number : \"))\n",
        "no3=int(input(\"Enter The Third Number : \"))\n",
        "\n",
        "if((no1*no2)>no3):\n",
        "  print(\"True\")\n",
        "else:\n",
        "  print(\"False\")"
      ],
      "metadata": {
        "colab": {
          "base_uri": "https://localhost:8080/"
        },
        "id": "nkmPUkOGWLrO",
        "outputId": "ad351f04-85b5-4ee9-9c1c-0cb9bd5e8f23"
      },
      "execution_count": null,
      "outputs": [
        {
          "output_type": "stream",
          "name": "stdout",
          "text": [
            "Enter The First Number : 7\n",
            "Enter The Second Number : 8\n",
            "Enter The Third Number : 6\n",
            "True\n"
          ]
        }
      ]
    },
    {
      "cell_type": "code",
      "source": [
        "##(14) Write a python program that accepts two strings inputs return True depending on whether the total number of characters\n",
        "##     in the first string is equal to the total number of haracters in the second string\n",
        "\n",
        "demo1=input(\"Enter a Word : \")\n",
        "demo2=input(\"Enter Another Word : \")\n",
        "\n",
        "if(len(demo1)==len(demo2)):\n",
        "  print(\"True\")\n",
        "else:\n",
        "  print(\"False\")"
      ],
      "metadata": {
        "colab": {
          "base_uri": "https://localhost:8080/"
        },
        "id": "NjaBqP5pXQ4N",
        "outputId": "4d14471e-f6a2-49f9-c400-6b0ae06d45a4"
      },
      "execution_count": null,
      "outputs": [
        {
          "output_type": "stream",
          "name": "stdout",
          "text": [
            "Enter a Word : Sandeep\n",
            "Enter Another Word : Kumar\n",
            "False\n"
          ]
        }
      ]
    },
    {
      "cell_type": "code",
      "source": [
        "##(15) Write a python program that takes a string input, we'll say that the front is the first three characters of the string. If the\n",
        "#      string length is less than three characters, the front is\n",
        "#      whatever is there. Return a new string, which is three copies of the front\n",
        "\n",
        "word=input(\"Enter a Word : \")\n",
        "\n",
        "if (len(word)<=3):\n",
        "  print(\"New Word =\",word)\n",
        "elif len(word)>3:\n",
        "  print(word*3)\n",
        "else:\n",
        "  print(\"Bye\")"
      ],
      "metadata": {
        "colab": {
          "base_uri": "https://localhost:8080/"
        },
        "id": "nTSjsob6YT1Z",
        "outputId": "614bbcea-221a-4608-db2e-33bc639dc2a5"
      },
      "execution_count": null,
      "outputs": [
        {
          "output_type": "stream",
          "name": "stdout",
          "text": [
            "Enter a Word : Sandeep\n",
            "SandeepSandeepSandeep\n"
          ]
        }
      ]
    },
    {
      "cell_type": "code",
      "source": [
        "##(16) Write a python program that takes in a word and determines whether or not it is plural. A plural word is one that ends in \"s\".\n",
        "\n",
        "n=input(\"Enter a Word : \")\n",
        "\n",
        "if (n[-1]==\"s\" or n[-1]==\"S\"):\n",
        "  print(n,\"Is Plural\")\n",
        "else:\n",
        "  print(n,\"Not Plural\")"
      ],
      "metadata": {
        "colab": {
          "base_uri": "https://localhost:8080/"
        },
        "id": "pvcM9Z0lZQfj",
        "outputId": "982cc610-56b1-4fff-ef6b-e2bc5112741f"
      },
      "execution_count": null,
      "outputs": [
        {
          "output_type": "stream",
          "name": "stdout",
          "text": [
            "Enter a Word : hi\n",
            "hi Not Plural\n"
          ]
        }
      ]
    },
    {
      "cell_type": "code",
      "source": [
        "##(17) A bartender is writing a simple program to determine whether he should serve drinks to someone. He only serves\n",
        "##     drinks to people 18 and older and when he's not on break (True means break and False means not a break time).\n",
        "##     Given the person's age, and whether break time is in session, create a python program which prints whether he should serve drinks or not.\n",
        "\n",
        "\n",
        "name=input(\"Tell Me Your Name : \")\n",
        "age=int(input(\"Tell Me Your Age : \"))\n",
        "\n",
        "while age>=18:\n",
        "  print(\"Hello sir what brand of wine do you want : \")\n",
        "  break\n",
        "else:\n",
        "  Print(\"Hello\",name,\"FIRST GO AND STUDY. PLAN YOUR CARRER INSTEAD OF BUYING BUYING WINE.\")"
      ],
      "metadata": {
        "id": "VgX4IB7LaHpb",
        "colab": {
          "base_uri": "https://localhost:8080/"
        },
        "outputId": "08e169da-fc46-4798-ccfb-872649cf8dba"
      },
      "execution_count": 1,
      "outputs": [
        {
          "output_type": "stream",
          "name": "stdout",
          "text": [
            "Tell Me Your Name : Sandeep\n",
            "Tell Me Your Age : 27\n",
            "Hello sir what brand of wine do you want : \n"
          ]
        }
      ]
    },
    {
      "cell_type": "code",
      "source": [
        "##(18) Manoj Kumar has family and friends. Help him remind them who is who. Given a string with a name, return the relation of that person to Manoj Kumar.\n",
        "\n",
        "y=input(\"Enter a Name : \")\n",
        "\n",
        "if y==\"Shiva\":\n",
        "  print(\"The relation with Shiva is father\")\n",
        "elif y==\"Latha\":\n",
        "  print(\"The relation with Latha is mother\")\n",
        "elif y==\"Tarun\":\n",
        "  print(\"The relation with Tarun is brother\")\n",
        "elif y==\"Kavitha\":\n",
        "  print(\"The relation with Kavitha is sister\")\n",
        "else:\n",
        "  print(\"With this person you are not having any relation\")"
      ],
      "metadata": {
        "colab": {
          "base_uri": "https://localhost:8080/"
        },
        "id": "PsPjAfu4l0Iw",
        "outputId": "d49d2cbb-6027-48a8-deb2-13e6f4155830"
      },
      "execution_count": 6,
      "outputs": [
        {
          "output_type": "stream",
          "name": "stdout",
          "text": [
            "Enter a Name : Sandeep\n",
            "With this person you are not having any relation\n"
          ]
        }
      ]
    },
    {
      "cell_type": "code",
      "source": [
        "##(19) Write a python program that takes a string, breaks it up and returns it with vowels first, consonants second. For any\n",
        "##     character that's not a vowel (like special characters or spaces), treat them like consonants.\n",
        "\n",
        "input_name=input(\"Enter a String : \")\n",
        "vowels=\"\"\n",
        "consonants=\"\"\n",
        "\n",
        "for char in input_name:\n",
        "  if char.lower() in \"aeiou\":\n",
        "    vowels=vowels+char\n",
        "  else:\n",
        "    consonants=consonants+char\n",
        "print(\"modified_string : \",vowels+consonants)"
      ],
      "metadata": {
        "colab": {
          "base_uri": "https://localhost:8080/"
        },
        "id": "GM7PSO1CnPrT",
        "outputId": "8bdc99b6-045b-41e7-8b94-49061a8c2438"
      },
      "execution_count": 7,
      "outputs": [
        {
          "output_type": "stream",
          "name": "stdout",
          "text": [
            "Enter a String : ambulance\n",
            "modified_string :  auaemblnc\n"
          ]
        }
      ]
    },
    {
      "cell_type": "code",
      "source": [
        "##(20) Create a dynamic calculator which asks for numbers and operator and return the answers\n",
        "##Example : Input : Type first number: 10\n",
        "##Type any of this (+, -, *, /, %, **): *\n",
        "##Type second number : 19 Output : Answer is 19\n",
        "\n",
        "\n",
        "one=int(input(\"Enter Your First Number : \"))\n",
        "two=input(\"Enter Your Operator : \")\n",
        "three=int(input(\"Enter Your Second Number : \"))\n",
        "\n",
        "if (two==\"+\"):\n",
        "  print(\"Sum of the Number is {}+{}={}\".format(one,three,one+three))\n",
        "elif(two==\"-\"):\n",
        "  print(\"Difference of Two Numbers is {}-{}={}\".format(one,three,one-three))\n",
        "elif(two==\"*\"):\n",
        "  print(\"Product of Two Numgers is {}*{}={}\".format(one,three,one*three))\n",
        "elif(two==\"/\"):\n",
        "  print(\"Divison of Two Numbers is {}/{}={}\".format(one,three,one/three))\n",
        "else:\n",
        "  print(\"BYE\")"
      ],
      "metadata": {
        "colab": {
          "base_uri": "https://localhost:8080/"
        },
        "id": "IsapfVTcptMp",
        "outputId": "bc19d9e7-0c87-47f1-fddc-37ab6f94ad21"
      },
      "execution_count": 14,
      "outputs": [
        {
          "output_type": "stream",
          "name": "stdout",
          "text": [
            "Enter Your First Number : 77\n",
            "Enter Your Operator : *\n",
            "Enter Your Second Number : 7\n",
            "Product of Two Numgers is 77*7=539\n"
          ]
        }
      ]
    },
    {
      "cell_type": "code",
      "source": [
        "\n"
      ],
      "metadata": {
        "id": "0uVXc2WIsalr"
      },
      "execution_count": null,
      "outputs": []
    }
  ]
}