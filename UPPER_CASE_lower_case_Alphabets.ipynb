{
  "nbformat": 4,
  "nbformat_minor": 0,
  "metadata": {
    "colab": {
      "provenance": []
    },
    "kernelspec": {
      "name": "python3",
      "display_name": "Python 3"
    },
    "language_info": {
      "name": "python"
    }
  },
  "cells": [
    {
      "cell_type": "code",
      "execution_count": null,
      "metadata": {
        "colab": {
          "base_uri": "https://localhost:8080/"
        },
        "id": "seGRd1sE9CfD",
        "outputId": "0cd942cd-a883-4fd4-f08f-9cc54b76f0f6"
      },
      "outputs": [
        {
          "output_type": "stream",
          "name": "stdout",
          "text": [
            "Lower Case Alphabets : \n",
            "a b c d e f g h i j k l m n o p q r s t u v w x y z \n",
            "\n",
            "Upper Case Alphabets : \n",
            "A B C D E F G H I J K L M N O P Q R S T U V W X Y Z "
          ]
        }
      ],
      "source": [
        "##Create a python program to print lower & upper case alphabets with looping concepts (while loop and for loop)\n",
        "\n",
        "##for loop-\n",
        "\n",
        "print(\"Lower Case Alphabets : \")\n",
        "for lower_case in range(ord(\"a\"),ord(\"z\")+1):\n",
        "  print(chr(lower_case),end= ' ')\n",
        "print()\n",
        "print(\"\\nUpper Case Alphabets : \")\n",
        "for upper_case in range(ord(\"A\"),ord(\"Z\")+1):\n",
        "  print(chr(upper_case),end= ' ')"
      ]
    },
    {
      "cell_type": "code",
      "source": [
        "##while loop-\n",
        "\n",
        "print(\"Lower Case Alphabets : \")\n",
        "lower_case=\"a\"\n",
        "while lower_case <=\"z\":\n",
        "  print(lower_case,end= \" \")\n",
        "  lower_case=(chr(ord(lower_case)+1))\n",
        "print()\n",
        "\n",
        "print(\"\\nUpper Case Alphabets : \")\n",
        "upper_case=\"A\"\n",
        "while upper_case<=\"Z\":\n",
        "  print(upper_case,end= \" \")\n",
        "  upper_case=(chr(ord(upper_case)+1))\n",
        "print()"
      ],
      "metadata": {
        "colab": {
          "base_uri": "https://localhost:8080/"
        },
        "id": "758SvaJt-n8g",
        "outputId": "55940073-754b-46d5-cdca-facf345c9266"
      },
      "execution_count": null,
      "outputs": [
        {
          "output_type": "stream",
          "name": "stdout",
          "text": [
            "Lower Case Alphabets : \n",
            "a b c d e f g h i j k l m n o p q r s t u v w x y z \n",
            "\n",
            "Upper Case Alphabets : \n",
            "A B C D E F G H I J K L M N O P Q R S T U V W X Y Z \n"
          ]
        }
      ]
    },
    {
      "cell_type": "code",
      "source": [],
      "metadata": {
        "id": "t4dc-P-m_iG2"
      },
      "execution_count": null,
      "outputs": []
    }
  ]
}