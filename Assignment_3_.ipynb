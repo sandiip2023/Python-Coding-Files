{
  "nbformat": 4,
  "nbformat_minor": 0,
  "metadata": {
    "colab": {
      "provenance": []
    },
    "kernelspec": {
      "name": "python3",
      "display_name": "Python 3"
    },
    "language_info": {
      "name": "python"
    }
  },
  "cells": [
    {
      "cell_type": "code",
      "execution_count": null,
      "metadata": {
        "colab": {
          "base_uri": "https://localhost:8080/"
        },
        "id": "bJPC_RtRuD7T",
        "outputId": "bb7343fd-060b-4d88-9a4f-f64602bccd2a"
      },
      "outputs": [
        {
          "output_type": "stream",
          "name": "stdout",
          "text": [
            "0 1 2 4 5 "
          ]
        }
      ],
      "source": [
        "##(1) Write a Python program that prints all the numbers from 0 to 6 except 3 and 6\n",
        "\n",
        "for i in range(0,6):\n",
        "  if i==3 or i==6:\n",
        "    continue\n",
        "  print(i,end=\" \")"
      ]
    },
    {
      "cell_type": "code",
      "source": [
        "##(2) Write a program to accept a number from a user and calculate the sum of all numbers from 1 to a given number\n",
        "\n",
        "input_num=int(input(\"Enter a Number : \"))\n",
        "sum_of_num=0\n",
        "\n",
        "for x in range(1,input_num+1):\n",
        "  sum_of_num=sum_of_num+x\n",
        "print(sum_of_num)"
      ],
      "metadata": {
        "colab": {
          "base_uri": "https://localhost:8080/"
        },
        "id": "x7-njULdu1KT",
        "outputId": "6056adc9-f8ce-41b6-daa4-58ebfea56e47"
      },
      "execution_count": null,
      "outputs": [
        {
          "output_type": "stream",
          "name": "stdout",
          "text": [
            "Enter a Number : 8\n",
            "36\n"
          ]
        }
      ]
    },
    {
      "cell_type": "code",
      "source": [
        "##(3) Write a program to print multiplication table of a given number(input)\n",
        "\n",
        "num=int(input(\"Enter a Number : \"))\n",
        "print(\"Multipliction of Table of\",num)\n",
        "for x in range(1,11):\n",
        "  print(num,\"x\",x,  '=',num*x)"
      ],
      "metadata": {
        "colab": {
          "base_uri": "https://localhost:8080/"
        },
        "id": "SkPPAlwnvvZa",
        "outputId": "ca17347e-b1c8-4e5f-a110-09135aa3d7f1"
      },
      "execution_count": null,
      "outputs": [
        {
          "output_type": "stream",
          "name": "stdout",
          "text": [
            "Enter a Number : 7\n",
            "Multipliction of Table of 7\n",
            "7 x 1 = 7\n",
            "7 x 2 = 14\n",
            "7 x 3 = 21\n",
            "7 x 4 = 28\n",
            "7 x 5 = 35\n",
            "7 x 6 = 42\n",
            "7 x 7 = 49\n",
            "7 x 8 = 56\n",
            "7 x 9 = 63\n",
            "7 x 10 = 70\n"
          ]
        }
      ]
    },
    {
      "cell_type": "code",
      "source": [
        "##(4) Write a program to count the total number of digits in a number using a while loop.\n",
        "##Example : The number is 75869, so the output should be 5.\n",
        "\n",
        "def count_dig(number):\n",
        "  count=0\n",
        "  while number>0:\n",
        "    number//=10\n",
        "    count+=1\n",
        "  return count\n",
        "num=int(input(\"Enter a Number : \"))\n",
        "dig_count=count_dig(num)\n",
        "print(\"Total Number of Digits : \",dig_count)"
      ],
      "metadata": {
        "colab": {
          "base_uri": "https://localhost:8080/"
        },
        "id": "GW7qZ_w3egCD",
        "outputId": "75c05131-e443-4cdd-a713-82b260456230"
      },
      "execution_count": null,
      "outputs": [
        {
          "output_type": "stream",
          "name": "stdout",
          "text": [
            "Enter a Number : 8885500594\n",
            "Total Number of Digits :  10\n"
          ]
        }
      ]
    },
    {
      "cell_type": "code",
      "source": [
        "##(5) Write a Python program which iterates the integers from 1 to 60. For multiples of three print \"Fizz\" instead of the number and for the multiples of five print \"Buzz\".\n",
        "##    For numbers which are multiples of both three and five print \"FizzBuzz\".\n",
        "\n",
        "for num in range (1,61):\n",
        "  if num % 3==0 and num % 5==0:\n",
        "    print(\"Fizz Buzz\")\n",
        "  elif num % 3==0:\n",
        "    print(\"Fizz\")\n",
        "  elif num %5==0:\n",
        "    print(\"Buzz\")\n",
        "  else:\n",
        "    print(num)"
      ],
      "metadata": {
        "colab": {
          "base_uri": "https://localhost:8080/"
        },
        "id": "4irHE7_SgVZa",
        "outputId": "079ef7e8-875d-4988-dc04-218a79f4c62a"
      },
      "execution_count": null,
      "outputs": [
        {
          "output_type": "stream",
          "name": "stdout",
          "text": [
            "1\n",
            "2\n",
            "Fizz\n",
            "4\n",
            "Buzz\n",
            "Fizz\n",
            "7\n",
            "8\n",
            "Fizz\n",
            "Buzz\n",
            "11\n",
            "Fizz\n",
            "13\n",
            "14\n",
            "Fizz Buzz\n",
            "16\n",
            "17\n",
            "Fizz\n",
            "19\n",
            "Buzz\n",
            "Fizz\n",
            "22\n",
            "23\n",
            "Fizz\n",
            "Buzz\n",
            "26\n",
            "Fizz\n",
            "28\n",
            "29\n",
            "Fizz Buzz\n",
            "31\n",
            "32\n",
            "Fizz\n",
            "34\n",
            "Buzz\n",
            "Fizz\n",
            "37\n",
            "38\n",
            "Fizz\n",
            "Buzz\n",
            "41\n",
            "Fizz\n",
            "43\n",
            "44\n",
            "Fizz Buzz\n",
            "46\n",
            "47\n",
            "Fizz\n",
            "49\n",
            "Buzz\n",
            "Fizz\n",
            "52\n",
            "53\n",
            "Fizz\n",
            "Buzz\n",
            "56\n",
            "Fizz\n",
            "58\n",
            "59\n",
            "Fizz Buzz\n"
          ]
        }
      ]
    },
    {
      "cell_type": "code",
      "source": [
        "##(6) Write a Python program that accepts a string and calculate the number of digits and letters\n",
        "\n",
        "string=input(\"Enter The String : \")\n",
        "l=len(string)\n",
        "digits=0\n",
        "letters=0\n",
        "for i in range(l):\n",
        "  if(string[i].isdigit()):\n",
        "    digits+=1\n",
        "  else:\n",
        "    letters+=1\n",
        "print(\"digits : \",digits)\n",
        "print(\"letters : \",letters)"
      ],
      "metadata": {
        "colab": {
          "base_uri": "https://localhost:8080/"
        },
        "id": "KC-EbjE5h3l6",
        "outputId": "33e62a3e-aae6-49fc-8787-6244a63f9f09"
      },
      "execution_count": null,
      "outputs": [
        {
          "output_type": "stream",
          "name": "stdout",
          "text": [
            "Enter The String : Sandeep77\n",
            "digits :  2\n",
            "letters :  7\n"
          ]
        }
      ]
    },
    {
      "cell_type": "code",
      "source": [
        "##(7) Write a program in Python to reverse a word by using while loop\n",
        "\n",
        "def reverse_word(word):\n",
        "  reverse_word=\"\"\n",
        "  index = len(word)-1\n",
        "\n",
        "  while index>0:\n",
        "    reverse_word+=word[index]\n",
        "    index-=1\n",
        "\n",
        "  return reverse_word\n",
        "\n",
        "input_word=input(\"Enter a Word : \")\n",
        "reverse_result =reverse_word(\"Sandeep Kumar\")\n",
        "print(\"reverse word:\",reverse_result)"
      ],
      "metadata": {
        "colab": {
          "base_uri": "https://localhost:8080/"
        },
        "id": "07UyzdlhjI_N",
        "outputId": "5ba0fb71-6fdf-47cf-c6cd-96f341dbc3cb"
      },
      "execution_count": null,
      "outputs": [
        {
          "output_type": "stream",
          "name": "stdout",
          "text": [
            "Enter a Word : Sandeep Kumar\n",
            "reverse word: ramuK peedna\n"
          ]
        }
      ]
    },
    {
      "cell_type": "code",
      "source": [
        "##(8) Write a program which takes 10 integers as input using loop and print their average value on the screen.\n",
        "\n",
        "n=int(input(\"Enter The Range : \"))\n",
        "sum=0\n",
        "avg=0\n",
        "for i in range(n):\n",
        "  num=int(input(\"Enter Your Number : \"))\n",
        "  sum+=num\n",
        "print(sum)\n",
        "avg=(sum/n)\n",
        "print(avg)"
      ],
      "metadata": {
        "colab": {
          "base_uri": "https://localhost:8080/"
        },
        "id": "4sOV2wy6lIc3",
        "outputId": "c06b5a3a-94a5-464a-d0f9-bd5c0055fc0d"
      },
      "execution_count": null,
      "outputs": [
        {
          "output_type": "stream",
          "name": "stdout",
          "text": [
            "Enter The Range : 7\n",
            "Enter Your Number : 8\n",
            "Enter Your Number : 1\n",
            "Enter Your Number : 5\n",
            "Enter Your Number : 6\n",
            "Enter Your Number : 4\n",
            "Enter Your Number : 7\n",
            "Enter Your Number : 1\n",
            "32\n",
            "4.571428571428571\n"
          ]
        }
      ]
    },
    {
      "cell_type": "code",
      "source": [
        "##(9) Write a Python program which will remove all digits or any other characters from the string except alphabets\n",
        "\n",
        "## Example:- Input : \"asd12.asd22\" ------ Output : \"asdasd\"\n",
        "\n",
        "string=input(\"Enter Your String : \")\n",
        "new_string=\"\"\n",
        "for i in string:\n",
        "  if(i.isalpha()):\n",
        "    new_string+=i\n",
        "print(new_string)"
      ],
      "metadata": {
        "colab": {
          "base_uri": "https://localhost:8080/"
        },
        "id": "ch-bc5L8ot43",
        "outputId": "985a4014-bc9d-4410-e16b-f2bf6f6d9a04"
      },
      "execution_count": null,
      "outputs": [
        {
          "output_type": "stream",
          "name": "stdout",
          "text": [
            "Enter Your String : sandeep@@##$$$_--\n",
            "sandeep\n"
          ]
        }
      ]
    },
    {
      "cell_type": "code",
      "source": [
        "##(10) Write a python program to find the sum of all even numbers from 0 to 10\n",
        "\n",
        "even_list = []\n",
        "for num in range(0,11):\n",
        "    if num%2== 0:\n",
        "        even_list.append(num)\n",
        "print(\"The sum of Numbers from 0 to 10 is {}\".format(sum(even_list)))\n"
      ],
      "metadata": {
        "colab": {
          "base_uri": "https://localhost:8080/"
        },
        "id": "y5jYqnN1qFd2",
        "outputId": "0d7234b6-ecbc-4c4b-86f7-37c18a203d85"
      },
      "execution_count": 5,
      "outputs": [
        {
          "output_type": "stream",
          "name": "stdout",
          "text": [
            "The sum of Numbers from 0 to 10 is 30\n"
          ]
        }
      ]
    },
    {
      "cell_type": "code",
      "source": [
        "##(11) Write a python program which will accept a digit and print All the numbers before it till 0.\n",
        "\n",
        "digit=int(input(\"Enter a Digit : \"))\n",
        "for num in range(digit-1, -1, -1):\n",
        "  print(num)"
      ],
      "metadata": {
        "id": "N4I0-UKvqn1z",
        "colab": {
          "base_uri": "https://localhost:8080/"
        },
        "outputId": "0c6d4f86-c7ca-4467-cf73-abb1b36625c2"
      },
      "execution_count": 7,
      "outputs": [
        {
          "output_type": "stream",
          "name": "stdout",
          "text": [
            "Enter a Digit : 8\n",
            "7\n",
            "6\n",
            "5\n",
            "4\n",
            "3\n",
            "2\n",
            "1\n",
            "0\n"
          ]
        }
      ]
    },
    {
      "cell_type": "code",
      "source": [
        "## create a dynamic calculator which will run continually till you press \"c\".\n",
        "\n",
        "while True:\n",
        "  num1=int(input(\"Enter First Number : \"))\n",
        "  operator = input(\"Enter an operator : + - * / % // \")\n",
        "  num2=int(input(\"Enter Second Number : \"))\n",
        "  if operator == \"c\":\n",
        "    print(\"Quitting Calculator!\")\n",
        "    break\n",
        "  else:\n",
        "    pass\n",
        "  if operator==\"+\":\n",
        "    print(\"{}+{}={}\".format(num1,num2,num1+num2))\n",
        "  elif operator==\"-\":\n",
        "    print(\"{}-{}={}\".format(num1,num2,num1-num2))\n",
        "  elif operator==\"*\":\n",
        "    print(\"{}*{}={}\".format(num1,num2,num1*num2))\n",
        "  elif operator==\"/\":\n",
        "    print(\"{}/{}={}\".format(num1,num2,num1/num2))\n",
        "  elif operator==\"%\":\n",
        "    print(\"{}%{}={}\".format(num1,num2,num1%num2))\n",
        "  else:\n",
        "    print(\"{}//{}={}\".format(num1,num2,num1//num2))"
      ],
      "metadata": {
        "colab": {
          "base_uri": "https://localhost:8080/"
        },
        "id": "XDpYuzIgIOpD",
        "outputId": "fb0031bf-8f7e-4f3d-c9b0-2534bd8cfcf8"
      },
      "execution_count": 14,
      "outputs": [
        {
          "output_type": "stream",
          "name": "stdout",
          "text": [
            "Enter First Number : 7\n",
            "Enter an operator : + - * / % // +\n",
            "Enter Second Number : 7\n",
            "7+7=14\n",
            "Enter First Number : 7\n",
            "Enter an operator : + - * / % // -\n",
            "Enter Second Number : 7\n",
            "7-7=0\n",
            "Enter First Number : 8\n",
            "Enter an operator : + - * / % // c\n",
            "Enter Second Number : 7\n",
            "Quitting Calculator!\n"
          ]
        }
      ]
    },
    {
      "cell_type": "code",
      "source": [],
      "metadata": {
        "id": "sNxtDPxwNHW0"
      },
      "execution_count": 15,
      "outputs": []
    }
  ]
}