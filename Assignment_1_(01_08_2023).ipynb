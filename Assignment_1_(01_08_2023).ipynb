{
  "nbformat": 4,
  "nbformat_minor": 0,
  "metadata": {
    "colab": {
      "provenance": []
    },
    "kernelspec": {
      "name": "python3",
      "display_name": "Python 3"
    },
    "language_info": {
      "name": "python"
    }
  },
  "cells": [
    {
      "cell_type": "code",
      "execution_count": null,
      "metadata": {
        "colab": {
          "base_uri": "https://localhost:8080/",
          "height": 36
        },
        "id": "i2FPjKnw4Kb2",
        "outputId": "01080b04-77a4-4127-b52b-f36010491201"
      },
      "outputs": [
        {
          "output_type": "execute_result",
          "data": {
            "text/plain": [
              "'first assignment'"
            ],
            "application/vnd.google.colaboratory.intrinsic+json": {
              "type": "string"
            }
          },
          "metadata": {},
          "execution_count": 6
        }
      ],
      "source": [
        "##Converting a String To Lower Case\n",
        "\n",
        "str_77=\"FIRST ASSIGNMENT\"\n",
        "str_77.lower()"
      ]
    },
    {
      "cell_type": "code",
      "source": [
        "##Converting Only Odd Indexed Characters To Lower Case\n",
        "\n",
        "str_77=\"PYTHON\"\n",
        "str_77[0]+str_77[1].lower()+str_77[2]+str_77[3].lower()+str_77[4]+str_77[5].lower()\n"
      ],
      "metadata": {
        "colab": {
          "base_uri": "https://localhost:8080/",
          "height": 36
        },
        "id": "lnFQ5pB58pBQ",
        "outputId": "93568699-77ae-428d-85c5-36cfbc804ed6"
      },
      "execution_count": null,
      "outputs": [
        {
          "output_type": "execute_result",
          "data": {
            "text/plain": [
              "'PyThOn'"
            ],
            "application/vnd.google.colaboratory.intrinsic+json": {
              "type": "string"
            }
          },
          "metadata": {},
          "execution_count": 12
        }
      ]
    },
    {
      "cell_type": "code",
      "source": [
        "##Converting Only Even Indexed Characters To Lower Case\n",
        "\n",
        "str_77=\"PYTHON\"\n",
        "str_77[0].lower()+str_77[1]+str_77[2].lower()+str_77[3]+str_77[4].lower()+str_77[5]"
      ],
      "metadata": {
        "colab": {
          "base_uri": "https://localhost:8080/",
          "height": 36
        },
        "id": "SJ7psyUt-R7O",
        "outputId": "e346a810-9830-419f-fbee-03b01e595e45"
      },
      "execution_count": null,
      "outputs": [
        {
          "output_type": "execute_result",
          "data": {
            "text/plain": [
              "'pYtHoN'"
            ],
            "application/vnd.google.colaboratory.intrinsic+json": {
              "type": "string"
            }
          },
          "metadata": {},
          "execution_count": 13
        }
      ]
    },
    {
      "cell_type": "code",
      "source": [
        "##Converting Only Odd Indexed Characters To Upper Case\n",
        "\n",
        "str_77=\"python\"\n",
        "str_77[0]+str_77[1].upper()+str_77[2]+str_77[3].upper()+str_77[4]+str_77[5].upper()"
      ],
      "metadata": {
        "colab": {
          "base_uri": "https://localhost:8080/",
          "height": 36
        },
        "id": "936Kx3PuDwBA",
        "outputId": "9547f87c-a0ee-4870-9bdd-b4c87fbb9b82"
      },
      "execution_count": null,
      "outputs": [
        {
          "output_type": "execute_result",
          "data": {
            "text/plain": [
              "'pYtHoN'"
            ],
            "application/vnd.google.colaboratory.intrinsic+json": {
              "type": "string"
            }
          },
          "metadata": {},
          "execution_count": 14
        }
      ]
    },
    {
      "cell_type": "code",
      "source": [
        "##Converting Only Even Indexed Characters To Upper Case\n",
        "\n",
        "str_77=\"python\"\n",
        "str_77[0].upper()+str_77[1]+str_77[2].upper()+str_77[3]+str_77[4].upper()+str_77[5]"
      ],
      "metadata": {
        "colab": {
          "base_uri": "https://localhost:8080/",
          "height": 36
        },
        "id": "RjlVC2i8EhZo",
        "outputId": "0fe46086-c7fa-484f-e1f3-9e2c6e655ad1"
      },
      "execution_count": null,
      "outputs": [
        {
          "output_type": "execute_result",
          "data": {
            "text/plain": [
              "'PyThOn'"
            ],
            "application/vnd.google.colaboratory.intrinsic+json": {
              "type": "string"
            }
          },
          "metadata": {},
          "execution_count": 16
        }
      ]
    },
    {
      "cell_type": "code",
      "source": [
        "##Write a python program where you have different variable which contains your Name, Sex, Age, Ph_no, Fathers Name & Mothers Name and\n",
        "#by using this variable create a variable named bio-data where you will use all this variable\n",
        "\n",
        "#Ex:-print(bio-data)\n",
        "\n",
        "#Output:-\n",
        "#My Name is _______\n",
        "#My Age is _______\n",
        "#My Ph_no is _______\n",
        "#My Fathers Name is _______\n",
        "#My Mothers Name is _______\n",
        "\n",
        "Name=input(\"ENTER YOUR NAME : \")\n",
        "Gender=input(\"ENTER YOUR GENDER : \")\n",
        "Age=int(input(\"ENTER YOUR AGE : \"))\n",
        "Phone_No=int(input(\"ENTER YOUR PHONE NO. : \"))\n",
        "Father_Name=input(\"ENTER YOUR FATHER'S NAME : \")\n",
        "Mother_Name=input(\"ENTER YOUR MOTHER'S NAME : \")\n",
        "\n",
        "bio_data=\"MY NAME IS {}, MY GENDER IS {}, MY AGE IS {}, MY PHONE NO. IS {}, MY FATHER'S NAME IS {}, MY MOTHER'S NAME IS {}\"\n",
        "bio_data.format(Name,Gender,Age,Phone_No,Father_Name,Mother_Name)"
      ],
      "metadata": {
        "id": "byOB7O_oFU7g",
        "colab": {
          "base_uri": "https://localhost:8080/",
          "height": 140
        },
        "outputId": "6b2f5a39-c47c-4d85-d1c5-aea659874f72"
      },
      "execution_count": null,
      "outputs": [
        {
          "name": "stdout",
          "output_type": "stream",
          "text": [
            "ENTER YOUR NAME : Sandiip Kumar Thathapudi\n",
            "ENTER YOUR GENDER : Male\n",
            "ENTER YOUR AGE : 28\n",
            "ENTER YOUR PHONE NO. : 8885500594\n",
            "ENTER YOUR FATHER'S NAME : T Sudhakar\n",
            "ENTER YOUR MOTHER'S NAME : T Vijayakumari\n"
          ]
        },
        {
          "output_type": "execute_result",
          "data": {
            "text/plain": [
              "\"MY NAME IS Sandiip Kumar Thathapudi, MY GENDER IS Male, MY AGE IS 28, MY PHONE NO. IS 8885500594, MY FATHER'S NAME IS T Sudhakar, MY MOTHER'S NAME IS T Vijayakumari\""
            ],
            "application/vnd.google.colaboratory.intrinsic+json": {
              "type": "string"
            }
          },
          "metadata": {},
          "execution_count": 17
        }
      ]
    },
    {
      "cell_type": "code",
      "source": [
        "##Write a python program to count how many times “@” occurred\n",
        "\n",
        "str_77=\"Innom@tics Rese@rch L@bs\"\n",
        "str_77.count('@')"
      ],
      "metadata": {
        "colab": {
          "base_uri": "https://localhost:8080/"
        },
        "id": "CrnjX48BOLAU",
        "outputId": "33abd67e-ed06-4cc4-b423-6ec4eb3a4692"
      },
      "execution_count": null,
      "outputs": [
        {
          "output_type": "execute_result",
          "data": {
            "text/plain": [
              "3"
            ]
          },
          "metadata": {},
          "execution_count": 18
        }
      ]
    },
    {
      "cell_type": "code",
      "source": [
        "##Write a python program to get only names from the string “name1.@gmail.com,name2.@gmail.com,name 3.@gmail.com”\n",
        "##Output - name1, name2, name3\n",
        "\n",
        "str_77=\"name1.@gmail.com,name2.@gmail.com,name3.@gmail.com\"\n",
        "str_77.replace(\".@gmail.com\", \" \").split(\" \")"
      ],
      "metadata": {
        "id": "BlGyqOEjPsV7",
        "colab": {
          "base_uri": "https://localhost:8080/"
        },
        "outputId": "aaecada4-d720-44f5-e5af-7d2d44c0c008"
      },
      "execution_count": 1,
      "outputs": [
        {
          "output_type": "execute_result",
          "data": {
            "text/plain": [
              "['name1', ',name2', ',name3', '']"
            ]
          },
          "metadata": {},
          "execution_count": 1
        }
      ]
    },
    {
      "cell_type": "code",
      "source": [
        "##Given a string of odd length greater that 9, return a new string made of the middle three characters of a given String\n",
        "\n",
        "##Ex :- “mynameissan\n",
        "##Output :- “mei”\n",
        "\n",
        "str_77=\"mynameissan\"\n",
        "str_77[4:-4]"
      ],
      "metadata": {
        "colab": {
          "base_uri": "https://localhost:8080/",
          "height": 36
        },
        "id": "tEEoFg0GPIi8",
        "outputId": "1856211b-4248-4362-b218-d752d1dddd87"
      },
      "execution_count": 2,
      "outputs": [
        {
          "output_type": "execute_result",
          "data": {
            "text/plain": [
              "'mei'"
            ],
            "application/vnd.google.colaboratory.intrinsic+json": {
              "type": "string"
            }
          },
          "metadata": {},
          "execution_count": 2
        }
      ]
    },
    {
      "cell_type": "code",
      "source": [
        "##Write a python program to insert a 2 string in the middle of 1 string\n",
        "\n",
        "##Ex :- Str1=\"myn\"\n",
        "##      Str2=\"sa\"\n",
        "\n",
        "##Output:-“msayn”\n",
        "\n",
        "_str1=\"myn\"\n",
        "_str2=\"sa\"\n",
        "\n",
        "_str1[0] + _str2 + _str1[1:3]\n"
      ],
      "metadata": {
        "colab": {
          "base_uri": "https://localhost:8080/",
          "height": 36
        },
        "id": "bZNUi2HqP8-6",
        "outputId": "1628465e-c8e2-429d-f6ed-8b037ed1c654"
      },
      "execution_count": 5,
      "outputs": [
        {
          "output_type": "execute_result",
          "data": {
            "text/plain": [
              "'msayn'"
            ],
            "application/vnd.google.colaboratory.intrinsic+json": {
              "type": "string"
            }
          },
          "metadata": {},
          "execution_count": 5
        }
      ]
    },
    {
      "cell_type": "code",
      "source": [
        "##Write a program to remove vowels from the entire alphabets\n",
        "##Ex :- “abcdefghijklmnopqrstuvwxyz”\n",
        "##Output :- “bcdfghjklmnpqrstvwxyz”\n",
        "\n",
        "str1=\"abcdefghijklmnopqrstuvwxyz\"\n",
        "str1.replace(\"a\",\"\").replace(\"e\",\"\").replace(\"i\",\"\").replace(\"o\",\"\").replace(\"u\",\"\")\n"
      ],
      "metadata": {
        "colab": {
          "base_uri": "https://localhost:8080/",
          "height": 36
        },
        "id": "ukedCKP2RXNJ",
        "outputId": "ec116195-5941-4fe5-d8e1-93030aa5f0a5"
      },
      "execution_count": 8,
      "outputs": [
        {
          "output_type": "execute_result",
          "data": {
            "text/plain": [
              "'bcdfghjklmnpqrstvwxyz'"
            ],
            "application/vnd.google.colaboratory.intrinsic+json": {
              "type": "string"
            }
          },
          "metadata": {},
          "execution_count": 8
        }
      ]
    },
    {
      "cell_type": "code",
      "source": [],
      "metadata": {
        "id": "8Jn7TrtBTMUR"
      },
      "execution_count": null,
      "outputs": []
    }
  ]
}